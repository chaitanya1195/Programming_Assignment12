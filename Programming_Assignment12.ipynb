{
 "cells": [
  {
   "cell_type": "code",
   "execution_count": 1,
   "id": "c487a111",
   "metadata": {},
   "outputs": [
    {
     "name": "stdout",
     "output_type": "stream",
     "text": [
      "['red', 'yellow', 'orange']\n"
     ]
    }
   ],
   "source": [
    "# 1.Write a Python program to Extract Unique values dictionary values?\n",
    "\n",
    "# define the fruits dictionary\n",
    "fruits = {'apple': 'red', 'banana': 'yellow', 'orange': 'orange'}\n",
    "\n",
    "# create an empty list for the unique colors\n",
    "unique_colors = []\n",
    "\n",
    "# loop through each fruit in the dictionary\n",
    "for color in fruits.values():\n",
    "    # if the color is not already in the unique colors list, add it\n",
    "    if color not in unique_colors:\n",
    "        unique_colors.append(color)\n",
    "\n",
    "# print the unique colors list\n",
    "print(unique_colors)\n"
   ]
  },
  {
   "cell_type": "code",
   "execution_count": 6,
   "id": "674e7364",
   "metadata": {},
   "outputs": [
    {
     "name": "stdout",
     "output_type": "stream",
     "text": [
      "sum of all items in dictionary 130\n"
     ]
    }
   ],
   "source": [
    "# 2.Write a Python program to find the sum of all items in a dictionary?\n",
    "\n",
    "# define the random dictionary\n",
    "my_dict = {'a': 12, 'b': 54, 'c': 64}\n",
    "\n",
    "# initialize sum variable\n",
    "sum_items = 0\n",
    "\n",
    "# iterate over dictionary values and add them up\n",
    "for val in my_dict.values():\n",
    "    sum_items += val\n",
    "    \n",
    "print(\"sum of all items in dictionary\", sum_items)\n"
   ]
  },
  {
   "cell_type": "code",
   "execution_count": 7,
   "id": "250d8b12",
   "metadata": {},
   "outputs": [
    {
     "name": "stdout",
     "output_type": "stream",
     "text": [
      "{'eddy': 34, 'chetan': 11, 'sunny': 76, 'teddy': 43, 'ketan': 99, 'bunny': 55}\n"
     ]
    }
   ],
   "source": [
    "# 3.Write a Python program to Merging two Dictionaries?\n",
    "\n",
    "# using 'update()'\n",
    "# define two different dictionaries\n",
    "my_dict1 = {'eddy': 34, 'chetan': 11, 'sunny': 76}\n",
    "my_dict2 = {'teddy': 43, 'ketan': 99, 'bunny': 55}\n",
    "\n",
    "my_dict1.update(my_dict2)\n",
    "print(my_dict1)"
   ]
  },
  {
   "cell_type": "code",
   "execution_count": 8,
   "id": "30648079",
   "metadata": {},
   "outputs": [
    {
     "name": "stdout",
     "output_type": "stream",
     "text": [
      "{'eddy': 34, 'chetan': 11, 'sunny': 76, 'teddy': 43, 'ketan': 99, 'bunny': 55}\n"
     ]
    }
   ],
   "source": [
    "# 3.Write a Python program to Merging two Dictionaries?\n",
    "\n",
    "# using '**' unpacking operator\n",
    "# define two different dictionaries\n",
    "my_dict1 = {'eddy': 34, 'chetan': 11, 'sunny': 76}\n",
    "my_dict2 = {'teddy': 43, 'ketan': 99, 'bunny': 55}\n",
    "\n",
    "merge_dict = {**my_dict1,**my_dict2}\n",
    "print(merge_dict)"
   ]
  },
  {
   "cell_type": "code",
   "execution_count": 9,
   "id": "792d878d",
   "metadata": {},
   "outputs": [
    {
     "name": "stdout",
     "output_type": "stream",
     "text": [
      "flat dictionary {'a': 12, 'b': 54, 'c': 98, 'd': 87}\n"
     ]
    }
   ],
   "source": [
    "# 4.Write a Python program to convert key-values list to flat dictionary?\n",
    "\n",
    "# define key and value in list form\n",
    "\n",
    "key_value_list = [('a',12),('b',54),('c',98),('d',87)]\n",
    "\n",
    "flat_dict = {key : value for (key,value) in key_value_list}\n",
    "\n",
    "print(\"flat dictionary\", flat_dict)"
   ]
  },
  {
   "cell_type": "code",
   "execution_count": 21,
   "id": "7c79a783",
   "metadata": {},
   "outputs": [
    {
     "name": "stdout",
     "output_type": "stream",
     "text": [
      "Original OrderedDict: OrderedDict([('apple', 3), ('banana', 2), ('orange', 1)])\n",
      "Updated OrderedDict: OrderedDict([('apple', 3), ('banana', 2), ('orange', 1), ('pear', 4)])\n"
     ]
    }
   ],
   "source": [
    "# 5.Write a Python program to insertion at the beginning in OrderedDict?\n",
    "\n",
    "from collections import OrderedDict\n",
    "\n",
    "my_dict = OrderedDict([('apple', 3), ('banana', 2), ('orange', 1)])\n",
    "\n",
    "print(\"Original OrderedDict:\", my_dict)\n",
    "\n",
    "# Insert a new key-value pair at the beginning\n",
    "my_dict.update({'pear': 4})\n",
    "\n",
    "print(\"Updated OrderedDict:\", my_dict)\n"
   ]
  },
  {
   "cell_type": "code",
   "execution_count": 24,
   "id": "5b6ab3ea",
   "metadata": {},
   "outputs": [
    {
     "name": "stdout",
     "output_type": "stream",
     "text": [
      "the characters in the string are in the specified order.\n"
     ]
    }
   ],
   "source": [
    "# 6.Write a Python program to check order of character in string using OrderedDict()?\n",
    "\n",
    "from collections import OrderedDict\n",
    "\n",
    "def check_order(string, order):\n",
    "    #create an OrderedDict from the characters in the string\n",
    "    char_dict = OrderedDict.fromkeys(string)\n",
    "    \n",
    "    #check if the order in valid\n",
    "    for char in order:\n",
    "        if char not in char_dict:\n",
    "            return False\n",
    "        return True\n",
    "    \n",
    "#Test the Fuction\n",
    "string = \"hello world\"\n",
    "order = \"hlowrd\"\n",
    "\n",
    "if check_order(string, order):\n",
    "    print(\"the characters in the string are in the specified order.\")\n",
    "else:\n",
    "    print(\"the characters in the string are not in the specified order.\")"
   ]
  },
  {
   "cell_type": "code",
   "execution_count": 26,
   "id": "692a02b2",
   "metadata": {},
   "outputs": [
    {
     "name": "stdout",
     "output_type": "stream",
     "text": [
      "sorted by key: {'chetan': 11, 'eddy': 76, 'sunny': 34}\n",
      "sorted by value: {'chetan': 11, 'sunny': 34, 'eddy': 76}\n"
     ]
    }
   ],
   "source": [
    "# 7.Write a Python program to sort Python Dictionaries by Key or Value?\n",
    "\n",
    "# define a dictionary\n",
    "my_dict = {'eddy': 76, 'chetan': 11, 'sunny': 34}\n",
    "\n",
    "#sort the dictionary by key\n",
    "sorted_dict_by_key = dict(sorted(my_dict.items()))\n",
    "\n",
    "#sort the dictionary by values\n",
    "sorted_dict_by_value = dict(sorted(my_dict.items(), key=lambda x:x[1]))\n",
    "\n",
    "#print the sorted dictionaries\n",
    "print(\"sorted by key:\", sorted_dict_by_key)\n",
    "print(\"sorted by value:\", sorted_dict_by_value)"
   ]
  },
  {
   "cell_type": "code",
   "execution_count": null,
   "id": "fb17e6e5",
   "metadata": {},
   "outputs": [],
   "source": []
  }
 ],
 "metadata": {
  "kernelspec": {
   "display_name": "Python 3 (ipykernel)",
   "language": "python",
   "name": "python3"
  },
  "language_info": {
   "codemirror_mode": {
    "name": "ipython",
    "version": 3
   },
   "file_extension": ".py",
   "mimetype": "text/x-python",
   "name": "python",
   "nbconvert_exporter": "python",
   "pygments_lexer": "ipython3",
   "version": "3.9.13"
  }
 },
 "nbformat": 4,
 "nbformat_minor": 5
}
